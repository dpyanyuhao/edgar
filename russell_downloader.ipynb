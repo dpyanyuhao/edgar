{
 "cells": [
  {
   "cell_type": "code",
   "execution_count": 1,
   "id": "fbfda580",
   "metadata": {},
   "outputs": [],
   "source": [
    "import numpy as np\n",
    "import pandas as pd\n",
    "import pandas_market_calendars as mcal\n",
    "from datetime import datetime\n",
    "import json\n",
    "import os\n",
    "import requests\n",
    "from MySQLdb import _mysql"
   ]
  },
  {
   "cell_type": "code",
   "execution_count": 2,
   "id": "8e78218d",
   "metadata": {},
   "outputs": [],
   "source": [
    "# INPUTS\n",
    "# ---------------------------------------------------------------------------------------------\n",
    "etf_landing_page = 'https://www.ishares.com/us/products/239707/ishares-russell-1000-etf'\n",
    "# start_date = '2017-12-31'\n",
    "start_date = '2023-01-01'\n",
    "end_date = datetime.now().strftime('%Y-%m-%d')\n",
    "output_file = r'C:\\Users\\Jerry\\Downloads\\Russell-1000-Holdings.csv'"
   ]
  },
  {
   "cell_type": "code",
   "execution_count": 3,
   "id": "70554d78",
   "metadata": {},
   "outputs": [],
   "source": [
    "def get_trading_day_month_ends(exchange_code, start_date, end_date, output_format):\n",
    "    nyse = mcal.get_calendar(exchange_code)\n",
    "    trading_days_df = pd.DataFrame({'trading_date':\n",
    "                                        nyse.valid_days(start_date=start_date,\n",
    "                                                        end_date=end_date)\n",
    "                                    })\n",
    "    trading_days_df['yymm'] = trading_days_df['trading_date'].dt.strftime('%y%m')\n",
    "    trading_day_month_ends = trading_days_df.groupby('yymm')['trading_date'].max(). \\\n",
    "        dt.strftime(output_format).to_list()\n",
    "\n",
    "    return trading_day_month_ends"
   ]
  },
  {
   "cell_type": "code",
   "execution_count": 4,
   "id": "36f075fa",
   "metadata": {},
   "outputs": [],
   "source": [
    "def map_raw_item(unmapped_item):\n",
    "    return {\n",
    "        'ticker': unmapped_item[0],\n",
    "        'name': unmapped_item[1],\n",
    "        'sector': unmapped_item[2],\n",
    "        'asset_class': unmapped_item[3],\n",
    "        'market_value': unmapped_item[4]['raw'],\n",
    "        'weight': unmapped_item[5]['raw'],\n",
    "        'notional_value': unmapped_item[6]['raw'],\n",
    "        'shares': unmapped_item[7]['raw'],\n",
    "        'cusip': unmapped_item[8],\n",
    "        'isin': unmapped_item[9],\n",
    "        'sedol': unmapped_item[10],\n",
    "        'price': unmapped_item[11]['raw'],\n",
    "        'location': unmapped_item[12],\n",
    "        'exchange': unmapped_item[13],\n",
    "        'currency': unmapped_item[14],\n",
    "        'fx_rate': unmapped_item[15],\n",
    "        'maturity': unmapped_item[16]\n",
    "    }"
   ]
  },
  {
   "cell_type": "code",
   "execution_count": 5,
   "id": "06a69bba",
   "metadata": {},
   "outputs": [],
   "source": [
    "def format_response(response_json):\n",
    "    input_items = response_json['aaData']\n",
    "    output_items = []\n",
    "    for input_item in input_items:\n",
    "        mapped_item = map_raw_item(input_item)\n",
    "        output_items.append(mapped_item)\n",
    "    return (output_items)"
   ]
  },
  {
   "cell_type": "code",
   "execution_count": 6,
   "id": "07ed9b94",
   "metadata": {},
   "outputs": [],
   "source": [
    "list_of_holdings = []\n",
    "yyyymmdd_queue = get_trading_day_month_ends('NYSE', start_date, end_date, '%Y%m%d')"
   ]
  },
  {
   "cell_type": "code",
   "execution_count": 7,
   "id": "af896999",
   "metadata": {},
   "outputs": [
    {
     "name": "stdout",
     "output_type": "stream",
     "text": [
      "requesting: https://www.ishares.com/us/products/239707/ishares-russell-1000-etf/1467271812596.ajax?fileType=json&tab=all&asOfDate=20230131\n",
      "response.status_code: 200\n",
      "number of rows: 1017\n",
      "requesting: https://www.ishares.com/us/products/239707/ishares-russell-1000-etf/1467271812596.ajax?fileType=json&tab=all&asOfDate=20230228\n",
      "response.status_code: 200\n",
      "number of rows: 1015\n",
      "requesting: https://www.ishares.com/us/products/239707/ishares-russell-1000-etf/1467271812596.ajax?fileType=json&tab=all&asOfDate=20230331\n",
      "response.status_code: 200\n",
      "number of rows: 1012\n",
      "requesting: https://www.ishares.com/us/products/239707/ishares-russell-1000-etf/1467271812596.ajax?fileType=json&tab=all&asOfDate=20230428\n",
      "response.status_code: 200\n",
      "number of rows: 1013\n",
      "requesting: https://www.ishares.com/us/products/239707/ishares-russell-1000-etf/1467271812596.ajax?fileType=json&tab=all&asOfDate=20230531\n",
      "response.status_code: 200\n",
      "number of rows: 1012\n",
      "requesting: https://www.ishares.com/us/products/239707/ishares-russell-1000-etf/1467271812596.ajax?fileType=json&tab=all&asOfDate=20230630\n",
      "response.status_code: 200\n",
      "number of rows: 1014\n",
      "requesting: https://www.ishares.com/us/products/239707/ishares-russell-1000-etf/1467271812596.ajax?fileType=json&tab=all&asOfDate=20230731\n",
      "response.status_code: 200\n",
      "number of rows: 1015\n",
      "requesting: https://www.ishares.com/us/products/239707/ishares-russell-1000-etf/1467271812596.ajax?fileType=json&tab=all&asOfDate=20230814\n",
      "response.status_code: 200\n",
      "!!!!!!!!!!\n",
      "ERROR: 0 ROWS (20230814)\n",
      "!!!!!!!!!!\n"
     ]
    }
   ],
   "source": [
    "for yyyymmdd in yyyymmdd_queue:\n",
    "    request_url = f'{etf_landing_page}/1467271812596.ajax?' \\\n",
    "                  f'fileType=json&tab=all&asOfDate={yyyymmdd}'\n",
    "    print(f'requesting: {request_url}')\n",
    "\n",
    "    response = requests.get(request_url)\n",
    "\n",
    "    if response is None:\n",
    "        print(f'{\"!\" * 10}\\nREQUEST FAILED({yyyymmdd}):\\n'\n",
    "              f'ERROR: Request to SB Timed-Out\\n'\n",
    "              f'{\"!\" * 10}')\n",
    "    else:\n",
    "        print(f'response.status_code: {response.status_code}')\n",
    "\n",
    "        if response.status_code != 200:\n",
    "\n",
    "            print(f'{\"!\" * 10}\\nREQUEST FAILED({yyyymmdd}):\\n'\n",
    "                  f'status code = {response.status_code}\\n'\n",
    "                  f'response_message = {response.text}\\n'\n",
    "                  f'{\"!\" * 10}')\n",
    "        else:\n",
    "            response_json = json.loads(response.content)\n",
    "            holdings_json = format_response(response_json)\n",
    "            holdings_df = pd.DataFrame(holdings_json)\n",
    "\n",
    "            if holdings_df.shape[0] == 0:\n",
    "                print(f'{\"!\" * 10}\\nERROR: 0 ROWS ({yyyymmdd})\\n{\"!\" * 10}')\n",
    "\n",
    "            else:\n",
    "                print(f'number of rows: {holdings_df.shape[0]}')\n",
    "\n",
    "                # add date col\n",
    "                holdings_df.insert(loc=0,\n",
    "                                   column='as_of_date',\n",
    "                                   value=f'{yyyymmdd[:4]}-{yyyymmdd[4:6]}-{yyyymmdd[6:]}')  # %Y-%m-%d\n",
    "                list_of_holdings.append(holdings_df)"
   ]
  },
  {
   "cell_type": "code",
   "execution_count": 8,
   "id": "e4469a03",
   "metadata": {},
   "outputs": [],
   "source": [
    "holdings = pd.concat(list_of_holdings)"
   ]
  },
  {
   "cell_type": "code",
   "execution_count": 9,
   "id": "e6958881",
   "metadata": {},
   "outputs": [],
   "source": [
    "clean_holdings = holdings[(holdings['asset_class'] == \"Equity\") & (holdings['ticker'] != \"-\") & (holdings['cusip'] != \"-\")]"
   ]
  },
  {
   "cell_type": "code",
   "execution_count": 10,
   "id": "b62725aa",
   "metadata": {},
   "outputs": [],
   "source": [
    "# Group by 'ticker' and aggregate using first non-NA value\n",
    "security_data = clean_holdings.groupby('cusip').agg({\n",
    "    'ticker': 'last',\n",
    "    'name': 'last',\n",
    "    'sector': 'last',\n",
    "    'asset_class': 'last',\n",
    "    'location': 'last',\n",
    "    'exchange': 'last'\n",
    "}).reset_index()"
   ]
  },
  {
   "cell_type": "code",
   "execution_count": 11,
   "id": "1044e808",
   "metadata": {},
   "outputs": [
    {
     "data": {
      "text/html": [
       "<div>\n",
       "<style scoped>\n",
       "    .dataframe tbody tr th:only-of-type {\n",
       "        vertical-align: middle;\n",
       "    }\n",
       "\n",
       "    .dataframe tbody tr th {\n",
       "        vertical-align: top;\n",
       "    }\n",
       "\n",
       "    .dataframe thead th {\n",
       "        text-align: right;\n",
       "    }\n",
       "</style>\n",
       "<table border=\"1\" class=\"dataframe\">\n",
       "  <thead>\n",
       "    <tr style=\"text-align: right;\">\n",
       "      <th></th>\n",
       "      <th>cusip</th>\n",
       "      <th>ticker</th>\n",
       "      <th>name</th>\n",
       "      <th>sector</th>\n",
       "      <th>asset_class</th>\n",
       "      <th>location</th>\n",
       "      <th>exchange</th>\n",
       "    </tr>\n",
       "  </thead>\n",
       "  <tbody>\n",
       "    <tr>\n",
       "      <th>0</th>\n",
       "      <td>00090Q103</td>\n",
       "      <td>ADT</td>\n",
       "      <td>ADT INC</td>\n",
       "      <td>Consumer Discretionary</td>\n",
       "      <td>Equity</td>\n",
       "      <td>United States</td>\n",
       "      <td>New York Stock Exchange Inc.</td>\n",
       "    </tr>\n",
       "    <tr>\n",
       "      <th>1</th>\n",
       "      <td>001055102</td>\n",
       "      <td>AFL</td>\n",
       "      <td>AFLAC INC</td>\n",
       "      <td>Financials</td>\n",
       "      <td>Equity</td>\n",
       "      <td>United States</td>\n",
       "      <td>New York Stock Exchange Inc.</td>\n",
       "    </tr>\n",
       "    <tr>\n",
       "      <th>2</th>\n",
       "      <td>001084102</td>\n",
       "      <td>AGCO</td>\n",
       "      <td>AGCO CORP</td>\n",
       "      <td>Industrials</td>\n",
       "      <td>Equity</td>\n",
       "      <td>United States</td>\n",
       "      <td>New York Stock Exchange Inc.</td>\n",
       "    </tr>\n",
       "    <tr>\n",
       "      <th>3</th>\n",
       "      <td>00123Q104</td>\n",
       "      <td>AGNC</td>\n",
       "      <td>AGNC INVESTMENT REIT CORP</td>\n",
       "      <td>Financials</td>\n",
       "      <td>Equity</td>\n",
       "      <td>United States</td>\n",
       "      <td>NASDAQ</td>\n",
       "    </tr>\n",
       "    <tr>\n",
       "      <th>4</th>\n",
       "      <td>00130H105</td>\n",
       "      <td>AES</td>\n",
       "      <td>AES CORP</td>\n",
       "      <td>Utilities</td>\n",
       "      <td>Equity</td>\n",
       "      <td>United States</td>\n",
       "      <td>New York Stock Exchange Inc.</td>\n",
       "    </tr>\n",
       "    <tr>\n",
       "      <th>...</th>\n",
       "      <td>...</td>\n",
       "      <td>...</td>\n",
       "      <td>...</td>\n",
       "      <td>...</td>\n",
       "      <td>...</td>\n",
       "      <td>...</td>\n",
       "      <td>...</td>\n",
       "    </tr>\n",
       "    <tr>\n",
       "      <th>1008</th>\n",
       "      <td>G8473T100</td>\n",
       "      <td>STE</td>\n",
       "      <td>STERIS</td>\n",
       "      <td>Health Care</td>\n",
       "      <td>Equity</td>\n",
       "      <td>United States</td>\n",
       "      <td>New York Stock Exchange Inc.</td>\n",
       "    </tr>\n",
       "    <tr>\n",
       "      <th>1009</th>\n",
       "      <td>G9618E107</td>\n",
       "      <td>WTM</td>\n",
       "      <td>WHITE MOUNTAINS INSURANCE GROUP LT</td>\n",
       "      <td>Financials</td>\n",
       "      <td>Equity</td>\n",
       "      <td>United States</td>\n",
       "      <td>New York Stock Exchange Inc.</td>\n",
       "    </tr>\n",
       "    <tr>\n",
       "      <th>1010</th>\n",
       "      <td>N72482123</td>\n",
       "      <td>QGEN</td>\n",
       "      <td>QIAGEN NV</td>\n",
       "      <td>Health Care</td>\n",
       "      <td>Equity</td>\n",
       "      <td>Germany</td>\n",
       "      <td>New York Stock Exchange Inc.</td>\n",
       "    </tr>\n",
       "    <tr>\n",
       "      <th>1011</th>\n",
       "      <td>P31076105</td>\n",
       "      <td>CPA</td>\n",
       "      <td>COPA HOLDINGS A SA</td>\n",
       "      <td>Industrials</td>\n",
       "      <td>Equity</td>\n",
       "      <td>Panama</td>\n",
       "      <td>New York Stock Exchange Inc.</td>\n",
       "    </tr>\n",
       "    <tr>\n",
       "      <th>1012</th>\n",
       "      <td>V7780T103</td>\n",
       "      <td>RCL</td>\n",
       "      <td>ROYAL CARIBBEAN GROUP LTD</td>\n",
       "      <td>Consumer Discretionary</td>\n",
       "      <td>Equity</td>\n",
       "      <td>United States</td>\n",
       "      <td>New York Stock Exchange Inc.</td>\n",
       "    </tr>\n",
       "  </tbody>\n",
       "</table>\n",
       "<p>1013 rows × 7 columns</p>\n",
       "</div>"
      ],
      "text/plain": [
       "          cusip ticker                                name  \\\n",
       "0     00090Q103    ADT                             ADT INC   \n",
       "1     001055102    AFL                           AFLAC INC   \n",
       "2     001084102   AGCO                           AGCO CORP   \n",
       "3     00123Q104   AGNC           AGNC INVESTMENT REIT CORP   \n",
       "4     00130H105    AES                            AES CORP   \n",
       "...         ...    ...                                 ...   \n",
       "1008  G8473T100    STE                              STERIS   \n",
       "1009  G9618E107    WTM  WHITE MOUNTAINS INSURANCE GROUP LT   \n",
       "1010  N72482123   QGEN                           QIAGEN NV   \n",
       "1011  P31076105    CPA                  COPA HOLDINGS A SA   \n",
       "1012  V7780T103    RCL           ROYAL CARIBBEAN GROUP LTD   \n",
       "\n",
       "                      sector asset_class       location  \\\n",
       "0     Consumer Discretionary      Equity  United States   \n",
       "1                 Financials      Equity  United States   \n",
       "2                Industrials      Equity  United States   \n",
       "3                 Financials      Equity  United States   \n",
       "4                  Utilities      Equity  United States   \n",
       "...                      ...         ...            ...   \n",
       "1008             Health Care      Equity  United States   \n",
       "1009              Financials      Equity  United States   \n",
       "1010             Health Care      Equity        Germany   \n",
       "1011             Industrials      Equity         Panama   \n",
       "1012  Consumer Discretionary      Equity  United States   \n",
       "\n",
       "                          exchange  \n",
       "0     New York Stock Exchange Inc.  \n",
       "1     New York Stock Exchange Inc.  \n",
       "2     New York Stock Exchange Inc.  \n",
       "3                           NASDAQ  \n",
       "4     New York Stock Exchange Inc.  \n",
       "...                            ...  \n",
       "1008  New York Stock Exchange Inc.  \n",
       "1009  New York Stock Exchange Inc.  \n",
       "1010  New York Stock Exchange Inc.  \n",
       "1011  New York Stock Exchange Inc.  \n",
       "1012  New York Stock Exchange Inc.  \n",
       "\n",
       "[1013 rows x 7 columns]"
      ]
     },
     "execution_count": 11,
     "metadata": {},
     "output_type": "execute_result"
    }
   ],
   "source": [
    "security_data"
   ]
  },
  {
   "cell_type": "code",
   "execution_count": 12,
   "id": "6fe66f89",
   "metadata": {},
   "outputs": [],
   "source": [
    "# Connecting to the MySQL server\n",
    "db = _mysql.connect(host=\"localhost\", user=\"root\", password=\"password\")\n",
    "\n",
    "try:\n",
    "    # Select the database\n",
    "    db.query(\"USE edgar_db_test\")\n",
    "except _mysql.OperationalError:\n",
    "    db.query(\"CREATE DATABASE edgar_db_test\")\n",
    "    db.query(\"USE edgar_db_test\")\n",
    "    \n",
    "# Query to create the security_info table\n",
    "create_table_query = \"\"\"\n",
    "CREATE TABLE IF NOT EXISTS security_info (\n",
    "    cusip CHAR(9) PRIMARY KEY NOT NULL,\n",
    "    ticker VARCHAR(255),\n",
    "    name VARCHAR(255),\n",
    "    sector VARCHAR(255),\n",
    "    asset_class VARCHAR(255),\n",
    "    location VARCHAR(255),\n",
    "    exchange VARCHAR(255)\n",
    ");\n",
    "\"\"\"\n",
    "\n",
    "db.query(create_table_query)"
   ]
  },
  {
   "cell_type": "code",
   "execution_count": 13,
   "id": "ca33f6f7",
   "metadata": {},
   "outputs": [],
   "source": [
    "# Iterate through each row in the DataFrame\n",
    "for index, row in security_data.iterrows():\n",
    "    cusip_value = row['cusip']\n",
    "    \n",
    "    # Check if the record already exists in the table\n",
    "    result = db.query(f\"SELECT 1 FROM security_info WHERE cusip = '{cusip_value}'\")\n",
    "    \n",
    "    if db.use_result().num_rows():\n",
    "        print(cusip_value, \"already exists\")\n",
    "    else:\n",
    "        # If not, insert the row to the table\n",
    "        try:\n",
    "            insert_query = f\"\"\"\n",
    "            INSERT INTO security_info (\n",
    "                cusip,\n",
    "                ticker,\n",
    "                name,\n",
    "                sector,\n",
    "                asset_class,\n",
    "                location,\n",
    "                exchange\n",
    "            ) \n",
    "            VALUES (\n",
    "                '{row['cusip']}',\n",
    "                '{row['ticker']}',\n",
    "                '{row['name']}',\n",
    "                '{row['sector']}',\n",
    "                '{row['asset_class']}',\n",
    "                '{row['location']}',\n",
    "                '{row['exchange']}'\n",
    "            )\n",
    "            \"\"\"\n",
    "            db.query(insert_query)\n",
    "        except _mysql.MySQLError as e:\n",
    "            print(\"Insert failed\", e)"
   ]
  },
  {
   "cell_type": "code",
   "execution_count": 28,
   "id": "cd6c2b47",
   "metadata": {},
   "outputs": [],
   "source": [
    "db.query(\"SELECT 1 FROM security_info WHERE cusip = '26614N102'\")\n",
    "result = db.store_result().fetch_row()"
   ]
  },
  {
   "cell_type": "code",
   "execution_count": 29,
   "id": "5c93209d",
   "metadata": {},
   "outputs": [
    {
     "data": {
      "text/plain": [
       "((b'1',),)"
      ]
     },
     "execution_count": 29,
     "metadata": {},
     "output_type": "execute_result"
    }
   ],
   "source": [
    "result"
   ]
  },
  {
   "cell_type": "code",
   "execution_count": 24,
   "id": "47e461d2",
   "metadata": {},
   "outputs": [],
   "source": [
    "db.query(f\"SELECT 1 FROM security_info WHERE cusip = '26614N102' LIMIT 1\")"
   ]
  },
  {
   "cell_type": "code",
   "execution_count": 25,
   "id": "b21d0e82",
   "metadata": {},
   "outputs": [],
   "source": [
    "result = db.store_result().fetch_row()"
   ]
  },
  {
   "cell_type": "code",
   "execution_count": 22,
   "id": "9abac9d3",
   "metadata": {},
   "outputs": [
    {
     "data": {
      "text/plain": [
       "0"
      ]
     },
     "execution_count": 22,
     "metadata": {},
     "output_type": "execute_result"
    }
   ],
   "source": [
    "db.use_result().num_rows()"
   ]
  },
  {
   "cell_type": "code",
   "execution_count": 18,
   "id": "0bb12d44",
   "metadata": {},
   "outputs": [],
   "source": [
    "db.query(f\"SELECT 1 FROM security_info WHERE cusip = '001W0310X' LIMIT 1\")"
   ]
  },
  {
   "cell_type": "code",
   "execution_count": 19,
   "id": "60d6041f",
   "metadata": {},
   "outputs": [
    {
     "data": {
      "text/plain": [
       "0"
      ]
     },
     "execution_count": 19,
     "metadata": {},
     "output_type": "execute_result"
    }
   ],
   "source": [
    "db.use_result().num_rows()"
   ]
  },
  {
   "cell_type": "code",
   "execution_count": 26,
   "id": "b7905d76",
   "metadata": {},
   "outputs": [
    {
     "data": {
      "text/plain": [
       "((b'1',),)"
      ]
     },
     "execution_count": 26,
     "metadata": {},
     "output_type": "execute_result"
    }
   ],
   "source": [
    "result"
   ]
  },
  {
   "cell_type": "code",
   "execution_count": 55,
   "id": "fd82b1c8",
   "metadata": {},
   "outputs": [],
   "source": [
    "db.query(\"\"\"SELECT 1 FROM security_info WHERE cusip = '28176E108@'\"\"\")"
   ]
  },
  {
   "cell_type": "code",
   "execution_count": 56,
   "id": "6ec7bc61",
   "metadata": {},
   "outputs": [],
   "source": [
    "result = db.store_result()"
   ]
  },
  {
   "cell_type": "code",
   "execution_count": 57,
   "id": "5136b1b9",
   "metadata": {},
   "outputs": [
    {
     "data": {
      "text/plain": [
       "()"
      ]
     },
     "execution_count": 57,
     "metadata": {},
     "output_type": "execute_result"
    }
   ],
   "source": [
    "result.fetch_row()"
   ]
  },
  {
   "cell_type": "code",
   "execution_count": 58,
   "id": "a683adac",
   "metadata": {},
   "outputs": [
    {
     "data": {
      "text/plain": [
       "0"
      ]
     },
     "execution_count": 58,
     "metadata": {},
     "output_type": "execute_result"
    }
   ],
   "source": [
    "result.num_rows()"
   ]
  },
  {
   "cell_type": "code",
   "execution_count": null,
   "id": "d5a83a0f",
   "metadata": {},
   "outputs": [],
   "source": []
  }
 ],
 "metadata": {
  "kernelspec": {
   "display_name": "Python 3 (ipykernel)",
   "language": "python",
   "name": "python3"
  },
  "language_info": {
   "codemirror_mode": {
    "name": "ipython",
    "version": 3
   },
   "file_extension": ".py",
   "mimetype": "text/x-python",
   "name": "python",
   "nbconvert_exporter": "python",
   "pygments_lexer": "ipython3",
   "version": "3.11.0"
  }
 },
 "nbformat": 4,
 "nbformat_minor": 5
}
