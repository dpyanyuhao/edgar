{
 "cells": [
  {
   "cell_type": "markdown",
   "id": "67689934",
   "metadata": {},
   "source": [
    "# Imports"
   ]
  },
  {
   "cell_type": "code",
   "execution_count": 1,
   "id": "7e6dc1fd",
   "metadata": {},
   "outputs": [],
   "source": [
    "import os\n",
    "import re\n",
    "import pandas as pd\n",
    "import MySQLdb"
   ]
  },
  {
   "cell_type": "markdown",
   "id": "274626d4",
   "metadata": {},
   "source": [
    "# Find valid folders"
   ]
  },
  {
   "cell_type": "code",
   "execution_count": 2,
   "id": "f6140740",
   "metadata": {},
   "outputs": [],
   "source": [
    "folders_to_process = []\n",
    "\n",
    "for folder in os.listdir(os.getcwd()):\n",
    "    # Check if the folder matches the pattern eg. 2018q1_form13f\n",
    "    if re.match(r'\\d{4}q[1-4]_form13f', folder):\n",
    "        # Construct full folder path\n",
    "        folder_path = os.path.join(os.getcwd(), folder)\n",
    "        if os.path.isdir(folder_path):\n",
    "            folders_to_process.append(folder_path)"
   ]
  },
  {
   "cell_type": "markdown",
   "id": "863dde43",
   "metadata": {},
   "source": [
    "# Assign valid dates"
   ]
  },
  {
   "cell_type": "code",
   "execution_count": 3,
   "id": "4c428ecc",
   "metadata": {},
   "outputs": [],
   "source": [
    "valid_dates = {'31-MAR-2018', '30-JUN-2018', '30-SEP-2018', '31-DEC-2018', \n",
    "               '31-MAR-2019', '30-JUN-2019', '30-SEP-2019', '31-DEC-2019', \n",
    "               '31-MAR-2020', '30-JUN-2020', '30-SEP-2020', '31-DEC-2020', \n",
    "               '31-MAR-2021', '30-JUN-2021', '30-SEP-2021', '31-DEC-2021', \n",
    "               '31-MAR-2022', '30-JUN-2022', '30-SEP-2022', '31-DEC-2022'\n",
    "}"
   ]
  },
  {
   "cell_type": "markdown",
   "id": "a3cad7fd",
   "metadata": {},
   "source": [
    "# Establish a connection"
   ]
  },
  {
   "cell_type": "code",
   "execution_count": 4,
   "id": "66048ea0",
   "metadata": {},
   "outputs": [],
   "source": [
    "# Connecting to the MySQL server\n",
    "connection = MySQLdb.connect(host=\"localhost\", user=\"root\", password=\"password\", database=\"edgar_db_test\")\n",
    "cursor = connection.cursor()"
   ]
  },
  {
   "cell_type": "markdown",
   "id": "ed2a5746",
   "metadata": {},
   "source": [
    "# Create tables"
   ]
  },
  {
   "cell_type": "code",
   "execution_count": 5,
   "id": "cbdf9464",
   "metadata": {},
   "outputs": [
    {
     "data": {
      "text/plain": [
       "0"
      ]
     },
     "execution_count": 5,
     "metadata": {},
     "output_type": "execute_result"
    }
   ],
   "source": [
    "# Create table security_info\n",
    "cursor.execute(\"\"\"\n",
    "CREATE TABLE IF NOT EXISTS security_info (\n",
    "    cusip CHAR(9) PRIMARY KEY,\n",
    "    ticker VARCHAR(255),\n",
    "    name VARCHAR(255),\n",
    "    sector VARCHAR(255),\n",
    "    asset_class VARCHAR(255),\n",
    "    location VARCHAR(255),\n",
    "    exchange VARCHAR(255)\n",
    ")\n",
    "\"\"\")"
   ]
  },
  {
   "cell_type": "code",
   "execution_count": 6,
   "id": "803e34e3",
   "metadata": {},
   "outputs": [
    {
     "data": {
      "text/plain": [
       "0"
      ]
     },
     "execution_count": 6,
     "metadata": {},
     "output_type": "execute_result"
    }
   ],
   "source": [
    "# Create table fund_info\n",
    "cursor.execute(\"\"\"\n",
    "CREATE TABLE IF NOT EXISTS fund_info (\n",
    "    cik INTEGER PRIMARY KEY,\n",
    "    manager_name VARCHAR(255),\n",
    "    city VARCHAR(255)\n",
    ")\n",
    "\"\"\")"
   ]
  },
  {
   "cell_type": "code",
   "execution_count": 7,
   "id": "62bfee7a",
   "metadata": {},
   "outputs": [
    {
     "data": {
      "text/plain": [
       "0"
      ]
     },
     "execution_count": 7,
     "metadata": {},
     "output_type": "execute_result"
    }
   ],
   "source": [
    "# Create table position_info\n",
    "cursor.execute(\"\"\"\n",
    "CREATE TABLE IF NOT EXISTS position_info (\n",
    "    infotable_sk INTEGER PRIMARY KEY,\n",
    "    accession_number VARCHAR(255),\n",
    "    cusip CHAR(9),\n",
    "    value INTEGER,\n",
    "    shares INTEGER,\n",
    "    cik INTEGER,\n",
    "    filing_period VARCHAR(255),\n",
    "    FOREIGN KEY (cusip) REFERENCES security_info(cusip),\n",
    "    FOREIGN KEY (cik) REFERENCES fund_info(cik)\n",
    ")\n",
    "\"\"\")"
   ]
  },
  {
   "cell_type": "code",
   "execution_count": 8,
   "id": "c3fb425b",
   "metadata": {},
   "outputs": [],
   "source": [
    "# Committing changes\n",
    "connection.commit()"
   ]
  },
  {
   "cell_type": "markdown",
   "id": "33768602",
   "metadata": {},
   "source": [
    "# Find valid CUSIPs (Russell 1000)"
   ]
  },
  {
   "cell_type": "code",
   "execution_count": 9,
   "id": "d37c7bf4",
   "metadata": {},
   "outputs": [],
   "source": [
    "# Query to get all 'cusip' values from 'security_info' table\n",
    "cursor.execute(\"SELECT cusip FROM security_info\")\n",
    "\n",
    "# Fetch all rows\n",
    "rows = cursor.fetchall()\n",
    "\n",
    "# Convert rows to a set of 'cusip' values\n",
    "cusips = {row[0] for row in rows}"
   ]
  },
  {
   "cell_type": "markdown",
   "id": "600a934c",
   "metadata": {},
   "source": [
    "# Create database entries"
   ]
  },
  {
   "cell_type": "code",
   "execution_count": 10,
   "id": "8bfc023f",
   "metadata": {},
   "outputs": [
    {
     "name": "stdout",
     "output_type": "stream",
     "text": [
      "C:\\Users\\Jerry\\Projects\\tester_notebook\\2018q1_form13f completed.\n",
      "C:\\Users\\Jerry\\Projects\\tester_notebook\\2018q2_form13f completed.\n",
      "C:\\Users\\Jerry\\Projects\\tester_notebook\\2018q3_form13f completed.\n",
      "C:\\Users\\Jerry\\Projects\\tester_notebook\\2018q4_form13f completed.\n",
      "C:\\Users\\Jerry\\Projects\\tester_notebook\\2019q1_form13f completed.\n",
      "C:\\Users\\Jerry\\Projects\\tester_notebook\\2019q2_form13f completed.\n",
      "C:\\Users\\Jerry\\Projects\\tester_notebook\\2019q3_form13f completed.\n",
      "C:\\Users\\Jerry\\Projects\\tester_notebook\\2019q4_form13f completed.\n",
      "C:\\Users\\Jerry\\Projects\\tester_notebook\\2020q1_form13f completed.\n",
      "C:\\Users\\Jerry\\Projects\\tester_notebook\\2020q2_form13f completed.\n",
      "C:\\Users\\Jerry\\Projects\\tester_notebook\\2020q3_form13f completed.\n",
      "C:\\Users\\Jerry\\Projects\\tester_notebook\\2020q4_form13f completed.\n",
      "C:\\Users\\Jerry\\Projects\\tester_notebook\\2021q1_form13f completed.\n",
      "C:\\Users\\Jerry\\Projects\\tester_notebook\\2021q2_form13f completed.\n",
      "C:\\Users\\Jerry\\Projects\\tester_notebook\\2021q3_form13f completed.\n",
      "C:\\Users\\Jerry\\Projects\\tester_notebook\\2021q4_form13f completed.\n",
      "C:\\Users\\Jerry\\Projects\\tester_notebook\\2022q1_form13f completed.\n",
      "C:\\Users\\Jerry\\Projects\\tester_notebook\\2022q2_form13f completed.\n",
      "C:\\Users\\Jerry\\Projects\\tester_notebook\\2022q3_form13f completed.\n",
      "C:\\Users\\Jerry\\Projects\\tester_notebook\\2022q4_form13f completed.\n",
      "C:\\Users\\Jerry\\Projects\\tester_notebook\\2023q1_form13f completed.\n",
      "C:\\Users\\Jerry\\Projects\\tester_notebook\\2023q2_form13f completed.\n"
     ]
    }
   ],
   "source": [
    "infotable_columns = ['ACCESSION_NUMBER', 'INFOTABLE_SK', 'CUSIP', 'VALUE', 'SSHPRNAMT', 'SSHPRNAMTTYPE', 'PUTCALL']\n",
    "submissions_columns = ['ACCESSION_NUMBER', 'SUBMISSIONTYPE', 'CIK', 'PERIODOFREPORT']\n",
    "coverpage_columns = ['ACCESSION_NUMBER', 'FILINGMANAGER_NAME', 'FILINGMANAGER_CITY']\n",
    "grouping_columns = ['ACCESSION_NUMBER', 'CUSIP', 'SSHPRNAMTTYPE', 'SUBMISSIONTYPE', \n",
    "                    'CIK', 'PERIODOFREPORT', 'FILINGMANAGER_NAME', 'FILINGMANAGER_CITY']\n",
    "\n",
    "for quarter in folders_to_process:\n",
    "    infotable = pd.read_csv(os.path.join(folder_path, 'INFOTABLE.tsv'), sep='\\t', usecols=infotable_columns)\n",
    "    submissions = pd.read_csv(os.path.join(folder_path, 'SUBMISSION.tsv'), sep='\\t', usecols=submissions_columns)\n",
    "    coverpage = pd.read_csv(os.path.join(folder_path, 'COVERPAGE.tsv'), sep='\\t', usecols=coverpage_columns)\n",
    "    \n",
    "    valid_filings = submissions.query(\"SUBMISSIONTYPE == '13F-HR' and PERIODOFREPORT in @valid_dates\")\n",
    "    filtered_infotable = infotable[infotable['CUSIP'].isin(cusips) & \n",
    "                                   pd.isna(infotable['PUTCALL']) & \n",
    "                                   (infotable['SSHPRNAMTTYPE'] == 'SH')]\n",
    "    valid_infotable = pd.merge(filtered_infotable, valid_filings, on='ACCESSION_NUMBER', how='inner')\n",
    "    all_data = pd.merge(valid_infotable, coverpage, on='ACCESSION_NUMBER', how='left')\n",
    "    all_data = all_data.groupby(grouping_columns, as_index=False).agg({'VALUE': 'sum',\n",
    "                                                                       'SSHPRNAMT': 'sum',\n",
    "                                                                       'INFOTABLE_SK': 'first'})\n",
    "    \n",
    "    for index, row in all_data.iterrows():\n",
    "            \n",
    "        # Insert to fund_info table\n",
    "        try:\n",
    "            cursor.execute(\"\"\"\n",
    "            INSERT IGNORE INTO fund_info (cik, manager_name, city)\n",
    "            VALUES (%s, %s, %s)\n",
    "            \"\"\", (row['CIK'], row['FILINGMANAGER_NAME'], row['FILINGMANAGER_CITY']))\n",
    "        except MySQLdb.Error as e:\n",
    "            print(f\"Error inserting into fund_info: {e}\")\n",
    "        \n",
    "        # Insert to position_info table\n",
    "        try:\n",
    "            cursor.execute(\"\"\"\n",
    "            INSERT IGNORE INTO position_info (infotable_sk, accession_number, cusip, value, shares, CIK, filing_period)\n",
    "            VALUES (%s, %s, %s, %s, %s, %s, %s)\n",
    "            \"\"\", (row['INFOTABLE_SK'], row['ACCESSION_NUMBER'], row['CUSIP'], row['VALUE'], row['SSHPRNAMT'], row['CIK'], row['PERIODOFREPORT']))\n",
    "        except MySQLdb.Error as e:\n",
    "            print(f\"Error inserting into position_info: {e}\")\n",
    "    \n",
    "    # Committing changes\n",
    "    connection.commit()\n",
    "    \n",
    "    print(f\"{quarter} completed.\")"
   ]
  },
  {
   "cell_type": "code",
   "execution_count": 11,
   "id": "8f9942ab",
   "metadata": {},
   "outputs": [
    {
     "data": {
      "text/html": [
       "<div>\n",
       "<style scoped>\n",
       "    .dataframe tbody tr th:only-of-type {\n",
       "        vertical-align: middle;\n",
       "    }\n",
       "\n",
       "    .dataframe tbody tr th {\n",
       "        vertical-align: top;\n",
       "    }\n",
       "\n",
       "    .dataframe thead th {\n",
       "        text-align: right;\n",
       "    }\n",
       "</style>\n",
       "<table border=\"1\" class=\"dataframe\">\n",
       "  <thead>\n",
       "    <tr style=\"text-align: right;\">\n",
       "      <th></th>\n",
       "      <th>ACCESSION_NUMBER</th>\n",
       "      <th>CUSIP</th>\n",
       "      <th>SSHPRNAMTTYPE</th>\n",
       "      <th>SUBMISSIONTYPE</th>\n",
       "      <th>CIK</th>\n",
       "      <th>PERIODOFREPORT</th>\n",
       "      <th>FILINGMANAGER_NAME</th>\n",
       "      <th>FILINGMANAGER_CITY</th>\n",
       "      <th>VALUE</th>\n",
       "      <th>SSHPRNAMT</th>\n",
       "      <th>INFOTABLE_SK</th>\n",
       "    </tr>\n",
       "  </thead>\n",
       "  <tbody>\n",
       "    <tr>\n",
       "      <th>0</th>\n",
       "      <td>0000093751-23-000567</td>\n",
       "      <td>00090Q103</td>\n",
       "      <td>SH</td>\n",
       "      <td>13F-HR</td>\n",
       "      <td>93751</td>\n",
       "      <td>31-DEC-2022</td>\n",
       "      <td>STATE STREET CORP</td>\n",
       "      <td>BOSTON</td>\n",
       "      <td>44484847</td>\n",
       "      <td>4885514</td>\n",
       "      <td>79949291</td>\n",
       "    </tr>\n",
       "    <tr>\n",
       "      <th>1</th>\n",
       "      <td>0000093751-23-000567</td>\n",
       "      <td>001055102</td>\n",
       "      <td>SH</td>\n",
       "      <td>13F-HR</td>\n",
       "      <td>93751</td>\n",
       "      <td>31-DEC-2022</td>\n",
       "      <td>STATE STREET CORP</td>\n",
       "      <td>BOSTON</td>\n",
       "      <td>2131895283</td>\n",
       "      <td>29634352</td>\n",
       "      <td>79949326</td>\n",
       "    </tr>\n",
       "    <tr>\n",
       "      <th>2</th>\n",
       "      <td>0000093751-23-000567</td>\n",
       "      <td>001084102</td>\n",
       "      <td>SH</td>\n",
       "      <td>13F-HR</td>\n",
       "      <td>93751</td>\n",
       "      <td>31-DEC-2022</td>\n",
       "      <td>STATE STREET CORP</td>\n",
       "      <td>BOSTON</td>\n",
       "      <td>240541856</td>\n",
       "      <td>1734385</td>\n",
       "      <td>79949329</td>\n",
       "    </tr>\n",
       "    <tr>\n",
       "      <th>3</th>\n",
       "      <td>0000093751-23-000567</td>\n",
       "      <td>00123Q104</td>\n",
       "      <td>SH</td>\n",
       "      <td>13F-HR</td>\n",
       "      <td>93751</td>\n",
       "      <td>31-DEC-2022</td>\n",
       "      <td>STATE STREET CORP</td>\n",
       "      <td>BOSTON</td>\n",
       "      <td>164719567</td>\n",
       "      <td>15745160</td>\n",
       "      <td>79949339</td>\n",
       "    </tr>\n",
       "    <tr>\n",
       "      <th>4</th>\n",
       "      <td>0000093751-23-000567</td>\n",
       "      <td>00130H105</td>\n",
       "      <td>SH</td>\n",
       "      <td>13F-HR</td>\n",
       "      <td>93751</td>\n",
       "      <td>31-DEC-2022</td>\n",
       "      <td>STATE STREET CORP</td>\n",
       "      <td>BOSTON</td>\n",
       "      <td>976488338</td>\n",
       "      <td>33953002</td>\n",
       "      <td>79949315</td>\n",
       "    </tr>\n",
       "    <tr>\n",
       "      <th>...</th>\n",
       "      <td>...</td>\n",
       "      <td>...</td>\n",
       "      <td>...</td>\n",
       "      <td>...</td>\n",
       "      <td>...</td>\n",
       "      <td>...</td>\n",
       "      <td>...</td>\n",
       "      <td>...</td>\n",
       "      <td>...</td>\n",
       "      <td>...</td>\n",
       "      <td>...</td>\n",
       "    </tr>\n",
       "    <tr>\n",
       "      <th>10351</th>\n",
       "      <td>0001978011-23-000010</td>\n",
       "      <td>88160R101</td>\n",
       "      <td>SH</td>\n",
       "      <td>13F-HR</td>\n",
       "      <td>1978011</td>\n",
       "      <td>31-DEC-2022</td>\n",
       "      <td>Abacus Wealth Partners, LLC</td>\n",
       "      <td>SANTA MONICA</td>\n",
       "      <td>253997</td>\n",
       "      <td>2062</td>\n",
       "      <td>80141776</td>\n",
       "    </tr>\n",
       "    <tr>\n",
       "      <th>10352</th>\n",
       "      <td>0001978011-23-000010</td>\n",
       "      <td>902252105</td>\n",
       "      <td>SH</td>\n",
       "      <td>13F-HR</td>\n",
       "      <td>1978011</td>\n",
       "      <td>31-DEC-2022</td>\n",
       "      <td>Abacus Wealth Partners, LLC</td>\n",
       "      <td>SANTA MONICA</td>\n",
       "      <td>536168</td>\n",
       "      <td>1663</td>\n",
       "      <td>80141778</td>\n",
       "    </tr>\n",
       "    <tr>\n",
       "      <th>10353</th>\n",
       "      <td>0001978011-23-000010</td>\n",
       "      <td>907818108</td>\n",
       "      <td>SH</td>\n",
       "      <td>13F-HR</td>\n",
       "      <td>1978011</td>\n",
       "      <td>31-DEC-2022</td>\n",
       "      <td>Abacus Wealth Partners, LLC</td>\n",
       "      <td>SANTA MONICA</td>\n",
       "      <td>662210</td>\n",
       "      <td>3198</td>\n",
       "      <td>80141779</td>\n",
       "    </tr>\n",
       "    <tr>\n",
       "      <th>10354</th>\n",
       "      <td>0001978011-23-000010</td>\n",
       "      <td>92826C839</td>\n",
       "      <td>SH</td>\n",
       "      <td>13F-HR</td>\n",
       "      <td>1978011</td>\n",
       "      <td>31-DEC-2022</td>\n",
       "      <td>Abacus Wealth Partners, LLC</td>\n",
       "      <td>SANTA MONICA</td>\n",
       "      <td>325637</td>\n",
       "      <td>1567</td>\n",
       "      <td>80141786</td>\n",
       "    </tr>\n",
       "    <tr>\n",
       "      <th>10355</th>\n",
       "      <td>0001978011-23-000010</td>\n",
       "      <td>931142103</td>\n",
       "      <td>SH</td>\n",
       "      <td>13F-HR</td>\n",
       "      <td>1978011</td>\n",
       "      <td>31-DEC-2022</td>\n",
       "      <td>Abacus Wealth Partners, LLC</td>\n",
       "      <td>SANTA MONICA</td>\n",
       "      <td>222775</td>\n",
       "      <td>1571</td>\n",
       "      <td>80141787</td>\n",
       "    </tr>\n",
       "  </tbody>\n",
       "</table>\n",
       "<p>10356 rows × 11 columns</p>\n",
       "</div>"
      ],
      "text/plain": [
       "           ACCESSION_NUMBER      CUSIP SSHPRNAMTTYPE SUBMISSIONTYPE      CIK  \\\n",
       "0      0000093751-23-000567  00090Q103            SH         13F-HR    93751   \n",
       "1      0000093751-23-000567  001055102            SH         13F-HR    93751   \n",
       "2      0000093751-23-000567  001084102            SH         13F-HR    93751   \n",
       "3      0000093751-23-000567  00123Q104            SH         13F-HR    93751   \n",
       "4      0000093751-23-000567  00130H105            SH         13F-HR    93751   \n",
       "...                     ...        ...           ...            ...      ...   \n",
       "10351  0001978011-23-000010  88160R101            SH         13F-HR  1978011   \n",
       "10352  0001978011-23-000010  902252105            SH         13F-HR  1978011   \n",
       "10353  0001978011-23-000010  907818108            SH         13F-HR  1978011   \n",
       "10354  0001978011-23-000010  92826C839            SH         13F-HR  1978011   \n",
       "10355  0001978011-23-000010  931142103            SH         13F-HR  1978011   \n",
       "\n",
       "      PERIODOFREPORT           FILINGMANAGER_NAME FILINGMANAGER_CITY  \\\n",
       "0        31-DEC-2022            STATE STREET CORP             BOSTON   \n",
       "1        31-DEC-2022            STATE STREET CORP             BOSTON   \n",
       "2        31-DEC-2022            STATE STREET CORP             BOSTON   \n",
       "3        31-DEC-2022            STATE STREET CORP             BOSTON   \n",
       "4        31-DEC-2022            STATE STREET CORP             BOSTON   \n",
       "...              ...                          ...                ...   \n",
       "10351    31-DEC-2022  Abacus Wealth Partners, LLC       SANTA MONICA   \n",
       "10352    31-DEC-2022  Abacus Wealth Partners, LLC       SANTA MONICA   \n",
       "10353    31-DEC-2022  Abacus Wealth Partners, LLC       SANTA MONICA   \n",
       "10354    31-DEC-2022  Abacus Wealth Partners, LLC       SANTA MONICA   \n",
       "10355    31-DEC-2022  Abacus Wealth Partners, LLC       SANTA MONICA   \n",
       "\n",
       "            VALUE  SSHPRNAMT  INFOTABLE_SK  \n",
       "0        44484847    4885514      79949291  \n",
       "1      2131895283   29634352      79949326  \n",
       "2       240541856    1734385      79949329  \n",
       "3       164719567   15745160      79949339  \n",
       "4       976488338   33953002      79949315  \n",
       "...           ...        ...           ...  \n",
       "10351      253997       2062      80141776  \n",
       "10352      536168       1663      80141778  \n",
       "10353      662210       3198      80141779  \n",
       "10354      325637       1567      80141786  \n",
       "10355      222775       1571      80141787  \n",
       "\n",
       "[10356 rows x 11 columns]"
      ]
     },
     "execution_count": 11,
     "metadata": {},
     "output_type": "execute_result"
    }
   ],
   "source": [
    "all_data"
   ]
  },
  {
   "cell_type": "markdown",
   "id": "fe8d1d64",
   "metadata": {},
   "source": [
    "# Close the connection"
   ]
  },
  {
   "cell_type": "code",
   "execution_count": 12,
   "id": "70477e02",
   "metadata": {},
   "outputs": [],
   "source": [
    "# Close the cursor and the connection\n",
    "cursor.close()\n",
    "connection.close()"
   ]
  },
  {
   "cell_type": "code",
   "execution_count": null,
   "id": "afcb620f",
   "metadata": {},
   "outputs": [],
   "source": []
  }
 ],
 "metadata": {
  "kernelspec": {
   "display_name": "Python 3 (ipykernel)",
   "language": "python",
   "name": "python3"
  },
  "language_info": {
   "codemirror_mode": {
    "name": "ipython",
    "version": 3
   },
   "file_extension": ".py",
   "mimetype": "text/x-python",
   "name": "python",
   "nbconvert_exporter": "python",
   "pygments_lexer": "ipython3",
   "version": "3.11.0"
  }
 },
 "nbformat": 4,
 "nbformat_minor": 5
}
